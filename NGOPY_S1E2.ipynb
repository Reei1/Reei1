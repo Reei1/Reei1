{
  "nbformat": 4,
  "nbformat_minor": 0,
  "metadata": {
    "colab": {
      "provenance": [],
      "include_colab_link": true
    },
    "kernelspec": {
      "name": "python3",
      "display_name": "Python 3"
    },
    "language_info": {
      "name": "python"
    }
  },
  "cells": [
    {
      "cell_type": "markdown",
      "metadata": {
        "id": "view-in-github",
        "colab_type": "text"
      },
      "source": [
        "<a href=\"https://colab.research.google.com/github/Reei1/Reei1/blob/main/NGOPY_S1E2.ipynb\" target=\"_parent\"><img src=\"https://colab.research.google.com/assets/colab-badge.svg\" alt=\"Open In Colab\"/></a>"
      ]
    },
    {
      "cell_type": "code",
      "execution_count": null,
      "metadata": {
        "id": "XfFCtHjFwCME"
      },
      "outputs": [],
      "source": []
    },
    {
      "cell_type": "code",
      "source": [],
      "metadata": {
        "id": "bxjTAN3lX43I"
      },
      "execution_count": null,
      "outputs": []
    },
    {
      "cell_type": "markdown",
      "metadata": {
        "id": "96A5EEv2XUpt"
      },
      "source": [
        "<img src=\"https://github.com/AlexFlipnote/CoffeeAPI/blob/master/images/_JOiT2NsV1A_coffee.jpg?raw=true\"\n",
        "    style=\"width:400px; float: right; margin: 0 40px 40px 40px;\"></img>\n",
        "\n",
        "# NGOPY (NGODING PYTHON)\n",
        "## Latihan Belajar DataFrame (Lanjutan)"
      ]
    },
    {
      "cell_type": "markdown",
      "source": [
        "---\n",
        "Upload file csv ke dalam file cloud google colab di sebelah kiri (icon folder)\n",
        "\n",
        "---\n",
        "\n"
      ],
      "metadata": {
        "id": "FsdD4lsDafhI"
      }
    },
    {
      "cell_type": "markdown",
      "source": [
        "Permulaan, import library yang dibutuhkan"
      ],
      "metadata": {
        "id": "S2yRJ4b31MKp"
      }
    },
    {
      "cell_type": "code",
      "source": [
        "#Tulis kodingannya disini\n"
      ],
      "metadata": {
        "id": "at9TR30iZgSp"
      },
      "execution_count": null,
      "outputs": []
    },
    {
      "cell_type": "markdown",
      "source": [
        "Kemudian baca file csvnya"
      ],
      "metadata": {
        "id": "77OG0BwF2EPz"
      }
    },
    {
      "cell_type": "code",
      "source": [
        "#Tulis kodingannya disini\n"
      ],
      "metadata": {
        "id": "OESXFcq5Zuw5"
      },
      "execution_count": null,
      "outputs": []
    },
    {
      "cell_type": "markdown",
      "source": [
        "Pratinjau/lihat file csvnya"
      ],
      "metadata": {
        "id": "7yxjlqkj2J4z"
      }
    },
    {
      "cell_type": "code",
      "source": [
        "#Tulis kodingannya disini\n"
      ],
      "metadata": {
        "id": "YVOsPIxpduG4"
      },
      "execution_count": null,
      "outputs": []
    },
    {
      "cell_type": "markdown",
      "metadata": {
        "id": "L-Jj5MjTRsQa"
      },
      "source": [
        "\n",
        "### Berapa banyak pesanan yang dibuat di `Canada` atau `France`?"
      ]
    },
    {
      "cell_type": "markdown",
      "source": [
        "sales.loc[(sales['Country'] == 'Canada') | (sales['Country'] == 'France')].shape[0]"
      ],
      "metadata": {
        "id": "Y5llBmTAAVSQ"
      }
    },
    {
      "cell_type": "code",
      "source": [
        "#Tulis kodingannya disini\n"
      ],
      "metadata": {
        "id": "pfSp7IijASEQ"
      },
      "execution_count": null,
      "outputs": []
    },
    {
      "cell_type": "markdown",
      "metadata": {
        "id": "ipU6509Vp9Io"
      },
      "source": [
        "\n",
        "### Berapa banyak pesanan `Bike Racks` yang dibuat dari `Canada`?"
      ]
    },
    {
      "cell_type": "markdown",
      "source": [
        "sales.loc[(sales['Country'] == 'Canada') & (sales['Sub_Category'] == 'Bike Racks')].shape[0]"
      ],
      "metadata": {
        "id": "s_QBjE5qTtg7"
      }
    },
    {
      "cell_type": "code",
      "source": [
        "#Tulis kodingannya disini\n"
      ],
      "metadata": {
        "id": "s_yLU-uqSIgq"
      },
      "execution_count": null,
      "outputs": []
    },
    {
      "cell_type": "markdown",
      "metadata": {
        "id": "4b3Mw9xVUfQb"
      },
      "source": [
        "\n",
        "### Berapa banyak pesanan yang dibuat di setiap `State` dari `France`?"
      ]
    },
    {
      "cell_type": "markdown",
      "source": [
        "france_states = sales.loc[sales['Country'] == 'France', 'State'].value_counts()\n",
        "\n",
        "france_states"
      ],
      "metadata": {
        "id": "-PYPRoMZVX2k"
      }
    },
    {
      "cell_type": "code",
      "source": [
        "#Tulis kodingannya disini\n"
      ],
      "metadata": {
        "id": "FANqiDHOTrVs"
      },
      "execution_count": null,
      "outputs": []
    },
    {
      "cell_type": "markdown",
      "metadata": {
        "id": "cKl9CoU8XUp9"
      },
      "source": [
        "Lanjutkan dan tampilkan dengan <b>bar plot</b>:"
      ]
    },
    {
      "cell_type": "markdown",
      "source": [
        "france_states.plot(kind='bar', figsize=(14,6))"
      ],
      "metadata": {
        "id": "aqINQ0S4XaMk"
      }
    },
    {
      "cell_type": "code",
      "source": [
        "#Tulis kodingannya disini\n"
      ],
      "metadata": {
        "id": "8XxD99SOWF2E"
      },
      "execution_count": null,
      "outputs": []
    },
    {
      "cell_type": "markdown",
      "metadata": {
        "id": "Nx6aaTEyVmXD"
      },
      "source": [
        "\n",
        "### Berapa banyak penjualan yang dilakukan per kategori?"
      ]
    },
    {
      "cell_type": "markdown",
      "source": [
        "sales['Product_Category'].value_counts()"
      ],
      "metadata": {
        "id": "D4w1grrtuPbm"
      }
    },
    {
      "cell_type": "code",
      "source": [
        "#Tulis kodingannya disini\n"
      ],
      "metadata": {
        "id": "i3eGc7xUVWeN"
      },
      "execution_count": null,
      "outputs": []
    },
    {
      "cell_type": "markdown",
      "metadata": {
        "id": "sfRc8ZN3XUp-"
      },
      "source": [
        "Lanjutkan dan tunjukkan dengan <b>pie plot</b>:"
      ]
    },
    {
      "cell_type": "markdown",
      "source": [
        "sales['Product_Category'].value_counts().plot(kind='pie', ylabel='Product_Category', figsize=(6,6))"
      ],
      "metadata": {
        "id": "tJtABRGcuLJ9"
      }
    },
    {
      "cell_type": "code",
      "source": [
        "#Tulis kodingannya disini\n"
      ],
      "metadata": {
        "id": "ERGn8yVorbKv"
      },
      "execution_count": null,
      "outputs": []
    },
    {
      "cell_type": "markdown",
      "metadata": {
        "id": "VcwFoWIPubUH"
      },
      "source": [
        "\n",
        "### Berapa banyak pesanan yang dibuat per `Sub_Category`?"
      ]
    },
    {
      "cell_type": "markdown",
      "source": [
        "accessories = sales.loc[sales['Product_Category'] == 'Accessories', 'Sub_Category'].value_counts()\n",
        "\n",
        "accessories"
      ],
      "metadata": {
        "id": "IQV74cew1Ajw"
      }
    },
    {
      "cell_type": "code",
      "source": [
        "#Tulis kodingannya disini\n"
      ],
      "metadata": {
        "id": "tEsluEAVulQH"
      },
      "execution_count": null,
      "outputs": []
    },
    {
      "cell_type": "markdown",
      "metadata": {
        "id": "VqJtTeAk1HS_"
      },
      "source": [
        "Lanjutkan dan tunjukkan dengan <b>bar plot</b>:"
      ]
    },
    {
      "cell_type": "markdown",
      "source": [
        "accessories.plot(kind='bar', figsize=(14,6))"
      ],
      "metadata": {
        "id": "3rm1JNcR1SN4"
      }
    },
    {
      "cell_type": "code",
      "source": [
        "#Tulis kodingannya disini\n"
      ],
      "metadata": {
        "id": "0WAq8nLC1D55"
      },
      "execution_count": null,
      "outputs": []
    },
    {
      "cell_type": "markdown",
      "metadata": {
        "id": "uUlyAYuH5WNz"
      },
      "source": [
        "\n",
        "### Jumlah penjualan terbanyak dari gender apa?"
      ]
    },
    {
      "cell_type": "markdown",
      "source": [
        "sales['Customer_Gender'].value_counts()"
      ],
      "metadata": {
        "id": "6pSw9JuI6MWY"
      }
    },
    {
      "cell_type": "code",
      "source": [
        "#Tulis kodingannya disini\n"
      ],
      "metadata": {
        "id": "kS2UleuB5vMX"
      },
      "execution_count": null,
      "outputs": []
    },
    {
      "cell_type": "markdown",
      "source": [
        "sales['Customer_Gender'].value_counts().plot(kind='bar', figsize=(6,6))"
      ],
      "metadata": {
        "id": "7Op69byO6PEX"
      }
    },
    {
      "cell_type": "code",
      "source": [
        "#Tulis kodingannya disini\n"
      ],
      "metadata": {
        "id": "MsAMsLK450uZ"
      },
      "execution_count": null,
      "outputs": []
    },
    {
      "cell_type": "markdown",
      "metadata": {
        "id": "boNjHbgH-VFP"
      },
      "source": [
        "\n",
        "### Berapa banyak penjualan `Revenue` di atas 500 dari gender pria?"
      ]
    },
    {
      "cell_type": "markdown",
      "source": [
        "sales.loc[(sales['Customer_Gender'] == 'M') & (sales['Revenue'] == 500)].shape[0]"
      ],
      "metadata": {
        "id": "SrkHOQcl_J-4"
      }
    },
    {
      "cell_type": "code",
      "source": [
        "#Tulis kodingannya disini\n"
      ],
      "metadata": {
        "id": "H5fld8mG-WPp"
      },
      "execution_count": null,
      "outputs": []
    },
    {
      "cell_type": "markdown",
      "metadata": {
        "id": "gJ8t6sL4_Ta7"
      },
      "source": [
        "\n",
        "### Tampilkan 5 penjualan teratas dengan `Revenue` tertinggi"
      ]
    },
    {
      "cell_type": "markdown",
      "source": [
        "sales.sort_values(['Revenue'], ascending=False).head(5)"
      ],
      "metadata": {
        "id": "l1bepk_u_7qx"
      }
    },
    {
      "cell_type": "code",
      "source": [
        "#Tulis kodingannya disini\n"
      ],
      "metadata": {
        "id": "vG-iT4Oc_NyL"
      },
      "execution_count": null,
      "outputs": []
    },
    {
      "cell_type": "markdown",
      "metadata": {
        "id": "fh4mcnwQAIk_"
      },
      "source": [
        "\n",
        "### Tampilkan penjualan dengan `Revenue` tertinggi saja"
      ]
    },
    {
      "cell_type": "markdown",
      "source": [
        "max = sales['Revenue'] == sales['Revenue'].max()\n",
        "\n",
        "sales.loc[max]"
      ],
      "metadata": {
        "id": "a_VRqwCmAdYJ"
      }
    },
    {
      "cell_type": "code",
      "source": [
        "#Tulis kodingannya disini\n"
      ],
      "metadata": {
        "id": "VFvwSDG_AOfL"
      },
      "execution_count": null,
      "outputs": []
    },
    {
      "cell_type": "markdown",
      "metadata": {
        "id": "3tceKVxHAoXo"
      },
      "source": [
        "\n",
        "### Berapa rata-rata `Order_Quantity` dari pesanan dengan pendapatan lebih dari 10 ribu?"
      ]
    },
    {
      "cell_type": "markdown",
      "source": [
        "order_more = sales['Revenue'] > 10000\n",
        "\n",
        "sales.loc[order_more, 'Order_Quantity'].mean()"
      ],
      "metadata": {
        "id": "q_OzqdApB9nq"
      }
    },
    {
      "cell_type": "code",
      "source": [
        "#Tulis kodingannya disini\n"
      ],
      "metadata": {
        "id": "wMDx7_zFA0Ej"
      },
      "execution_count": null,
      "outputs": []
    },
    {
      "cell_type": "markdown",
      "metadata": {
        "id": "ybhxdQZRBtNh"
      },
      "source": [
        "\n",
        "### Berapa rata-rata `Order_Quantity` dari pesanan dengan pendapatan kurang dari 10 ribu?"
      ]
    },
    {
      "cell_type": "markdown",
      "source": [
        "order_less = sales['Revenue'] < 10000\n",
        "\n",
        "sales.loc[order_less, 'Order_Quantity'].mean()"
      ],
      "metadata": {
        "id": "FfpJm-GWCA_K"
      }
    },
    {
      "cell_type": "code",
      "source": [
        "#Tulis kodingannya disini\n"
      ],
      "metadata": {
        "id": "mblhyWRmBvx7"
      },
      "execution_count": null,
      "outputs": []
    },
    {
      "cell_type": "markdown",
      "metadata": {
        "id": "HNUEOTZPCFw3"
      },
      "source": [
        "\n",
        "### Berapa banyak pesanan yang dibuat pada bulan Mei 2016?"
      ]
    },
    {
      "cell_type": "markdown",
      "source": [
        "may_2016 = (sales['Year'] == 2016) & (sales['Month'] == 'May')\n",
        "\n",
        "sales.loc[may_2016].shape[0]"
      ],
      "metadata": {
        "id": "RZCIby6PCNfj"
      }
    },
    {
      "cell_type": "code",
      "source": [
        "#Tulis kodingannya disini\n"
      ],
      "metadata": {
        "id": "cX9YajazCN2K"
      },
      "execution_count": null,
      "outputs": []
    },
    {
      "cell_type": "markdown",
      "metadata": {
        "id": "1Ffpw2BiC60J"
      },
      "source": [
        "\n",
        "### Berapa banyak pesanan yang dibuat antara bulan Mei dan Juli 2016?"
      ]
    },
    {
      "cell_type": "markdown",
      "source": [
        "may_july_2016 = (sales['Year'] == 2016) & (sales['Month'].isin(['May', 'June', 'July']))\n",
        "\n",
        "sales.loc[may_july_2016].shape[0]"
      ],
      "metadata": {
        "id": "ZZQyIWAgD9lN"
      }
    },
    {
      "cell_type": "code",
      "source": [
        "#Tulis kodingannya disini\n"
      ],
      "metadata": {
        "id": "d4S1EiW3C9v1"
      },
      "execution_count": null,
      "outputs": []
    },
    {
      "cell_type": "markdown",
      "metadata": {
        "id": "LVEH5vQBXUqF"
      },
      "source": [
        "Menampilkan <b>box plot</b> yang dikelompokkan per bulan dengan nilai keuntungan (profit)"
      ]
    },
    {
      "cell_type": "markdown",
      "source": [
        "profit_2016 = sales.loc[sales['Year'] == 2016, ['Profit', 'Month']]\n",
        "\n",
        "profit_2016.boxplot(by='Month', figsize=(14,6))"
      ],
      "metadata": {
        "id": "gSuHV0DlL_R7"
      }
    },
    {
      "cell_type": "code",
      "source": [
        "#Tulis kodingannya disini\n"
      ],
      "metadata": {
        "id": "hB116IHNEUvZ"
      },
      "execution_count": null,
      "outputs": []
    },
    {
      "cell_type": "markdown",
      "metadata": {
        "id": "OOs8sfznEBjY"
      },
      "source": [
        "\n",
        "### Tambahkan 7,2% pajak pada setiap penjualan `Unit_Price` di Amerika Serikat"
      ]
    },
    {
      "cell_type": "markdown",
      "source": [
        "Pratinjau `Unit_Price` sebelum ditambahkan pajak 7,2%"
      ],
      "metadata": {
        "id": "8mo74WN6TLW0"
      }
    },
    {
      "cell_type": "markdown",
      "source": [
        "raw_tax = sales[sales['Country'] == 'United States'][['Country', 'Unit_Price']]"
      ],
      "metadata": {
        "id": "FjFMe2FNTITe"
      }
    },
    {
      "cell_type": "code",
      "source": [
        "#Tulis kodingannya disini\n"
      ],
      "metadata": {
        "id": "PELi9_M5Qvdm"
      },
      "execution_count": null,
      "outputs": []
    },
    {
      "cell_type": "markdown",
      "source": [
        "raw_tax"
      ],
      "metadata": {
        "id": "WfNZMUDkTlaz"
      }
    },
    {
      "cell_type": "code",
      "source": [
        "#Tulis kodingannya disini\n"
      ],
      "metadata": {
        "id": "yopJnbbuSe-t"
      },
      "execution_count": null,
      "outputs": []
    },
    {
      "cell_type": "markdown",
      "source": [
        "Tambahkan pajak 7,2% pada `Unit_Price`"
      ],
      "metadata": {
        "id": "tG4sE2BxT6QS"
      }
    },
    {
      "cell_type": "markdown",
      "source": [
        "sales.loc[sales['Country'] == 'United States', 'Unit_Price'] *= 1.072"
      ],
      "metadata": {
        "id": "nLvpExB5Tp5a"
      }
    },
    {
      "cell_type": "code",
      "source": [
        "#Tulis kodingannya disini\n"
      ],
      "metadata": {
        "id": "j9kAKykGMFUM"
      },
      "execution_count": null,
      "outputs": []
    },
    {
      "cell_type": "markdown",
      "source": [
        "Pratinjau `Unit_Price` setelah ditambahkan pajak 7,2%"
      ],
      "metadata": {
        "id": "GhfeBxB0T3wI"
      }
    },
    {
      "cell_type": "markdown",
      "source": [
        "tax_us = sales[sales['Country'] == 'United States'][['Country', 'Unit_Price']]\n",
        "\n",
        "tax_us"
      ],
      "metadata": {
        "id": "jnTsgJTxTvKj"
      }
    },
    {
      "cell_type": "code",
      "source": [
        "#Tulis kodingannya disini\n"
      ],
      "metadata": {
        "id": "yexSnsUFNFUN"
      },
      "execution_count": null,
      "outputs": []
    }
  ]
}